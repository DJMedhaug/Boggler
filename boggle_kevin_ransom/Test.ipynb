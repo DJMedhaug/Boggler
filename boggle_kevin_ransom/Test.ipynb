{
 "cells": [
  {
   "cell_type": "code",
   "execution_count": 5,
   "metadata": {
    "collapsed": false
   },
   "outputs": [],
   "source": [
    "def read( file, min_length = 3 ):\n",
    "    \"\"\"Read the dictionary from a sorted list of words.\n",
    "    Args:\n",
    "        file: dictionary file (list of words, in alphabetical order), already open\n",
    "        min_length: integer, minimum length of words to\n",
    "            include in dictionary. Useful for games in\n",
    "            which short words don't count.  For example,\n",
    "            in Boggle the limit is usually 3, but in\n",
    "            some variations of Boggle only words of 4 or\n",
    "            more letters count.\n",
    "    Returns:  nothing   \n",
    "    \"\"\"\n",
    "    global words \n",
    "    words = []\n",
    "    #FIXME: read the dictionary file into words.  Skip words that\n",
    "    #   are too short or contain non-alphabetic characters\n",
    "    for line in file:\n",
    "        if \"-\" not in line and \"\\'\" not in line:\n",
    "            word_ = line.split()\n",
    "            print(word_)\n",
    "            for item in word_:\n",
    "                if len(item) >= min_length:\n",
    "                    words.append(item)\n",
    "    words = sorted(words)  # Being sorted is most important for binary search\n",
    "    print(words)"
   ]
  },
  {
   "cell_type": "code",
   "execution_count": 7,
   "metadata": {
    "collapsed": false
   },
   "outputs": [
    {
     "name": "stdout",
     "output_type": "stream",
     "text": [
      "[]\n"
     ]
    }
   ],
   "source": [
    "read( [\"W-TFFFF\"], min_length = 3)"
   ]
  },
  {
   "cell_type": "code",
   "execution_count": 56,
   "metadata": {
    "collapsed": false
   },
   "outputs": [],
   "source": [
    "WORD = 1\n",
    "PREFIX = 2\n",
    "NO_MATCH = 0\n",
    "\n",
    "def search(prefix, file):\n",
    "    \"\"\"Search for a prefix string in the dictionary.\n",
    "    Args:\n",
    "        str:  A string to look for in the dictionary\n",
    "    Returns:\n",
    "        code WORD if str exactly matches a word in the dictionary,\n",
    "            PREFIX if str does not match a word exactly but is a prefix\n",
    "                of a word in the dictionary, or\n",
    "        NO_MATCH if str is not a prefix of any word in the dictionary\n",
    "    \"\"\"\n",
    "    words = file\n",
    "    matches = []\n",
    "    for item in words:\n",
    "        if item.startswith(prefix) == True: \n",
    "            matches.append(item)\n",
    "    print(matches)\n",
    "    if len(matches) == 0:\n",
    "        return NO_MATCH\n",
    "    if prefix in matches:\n",
    "        return WORD\n",
    "    if len(matches) >= 1:\n",
    "        return PREFIX"
   ]
  },
  {
   "cell_type": "code",
   "execution_count": 57,
   "metadata": {
    "collapsed": false
   },
   "outputs": [
    {
     "name": "stdout",
     "output_type": "stream",
     "text": [
      "['omega']\n"
     ]
    },
    {
     "data": {
      "text/plain": [
       "2"
      ]
     },
     "execution_count": 57,
     "metadata": {},
     "output_type": "execute_result"
    }
   ],
   "source": [
    "search(\"om\", open(\"shortdict.txt\", \"r\"))"
   ]
  },
  {
   "cell_type": "code",
   "execution_count": 122,
   "metadata": {
    "collapsed": false,
    "scrolled": true
   },
   "outputs": [
    {
     "name": "stdout",
     "output_type": "stream",
     "text": [
      "0 0\n",
      "0 1\n",
      "0 2\n",
      "1 0\n",
      "1 1\n",
      "1 2\n",
      "2 0\n",
      "2 1\n",
      "2 2\n",
      "['care', 'armrec', 'rmra', 'ecarto', 'rarmytoec', 'mrytra', 'oert', 'trmyoe', 'ymtr']\n"
     ]
    }
   ],
   "source": [
    "directions = [(0,0), (-1,0), (-1,1), (0,1), (1,1), (1,0), (1,-1), (0,-1),(-1,-1)]\n",
    "dictionary = [\"car\", \"carrot\", \"race\", \"rare\", \"tea\", \"tear\" ]\n",
    "#table = [['c', 'a' ], ['s', 't']]\n",
    "\n",
    "table = [['c', 'a', 'r' ], ['e', 'r', 'm'], ['o', 't', 'y']]\n",
    "\n",
    "def recurse():\n",
    "    candidates = []  \n",
    "\n",
    "    for row_generate in range(3): # Update the max range to 4 for final\n",
    "        x = row_generate\n",
    "        for col_generate in range(3): # Update the max range to 4 for final\n",
    "            y = col_generate\n",
    "            print(x, y)\n",
    "\n",
    "            strings_ = \"\"\n",
    "            for tuple in range(9):\n",
    "                row, col = directions[tuple]\n",
    "                row_coord = x + row\n",
    "                col_coord = y + col\n",
    "                if row_coord >= 0 and col_coord >= 0 and row_coord <=2 and col_coord <= 2:\n",
    "                    strings_ = strings_ + table[row_coord][col_coord]\n",
    "            candidates.append(strings_)\n",
    "\n",
    "    print(candidates)\n",
    "\n",
    "recurse()"
   ]
  },
  {
   "cell_type": "code",
   "execution_count": null,
   "metadata": {
    "collapsed": true
   },
   "outputs": [],
   "source": []
  },
  {
   "cell_type": "code",
   "execution_count": 131,
   "metadata": {
    "collapsed": false
   },
   "outputs": [],
   "source": [
    "directions = [(0,0), (-1,0), (-1,1), (0,1), (1,1), (1,0), (1,-1), (0,-1),(-1,-1)]\n",
    "dictionary = [\"car\", \"carrot\", \"race\", \"rare\", \"tea\", \"tear\" ]\n",
    "#table = [['c', 'a' ], ['s', 't']]\n",
    "\n",
    "table = [['c', 'a', 'r' ], ['e', 'r', 'm'], ['o', 't', 'y']]\n",
    "\n",
    "\n",
    "\n",
    "def recurse(table, searched, current, prefix, results):\n",
    "    \n",
    "    results = []\n",
    "        \n",
    "    if item in results not in dictionary:\n",
    "        \n",
    "        for row_generate in range(3): # Update the max range to 4 for final\n",
    "            x = row_generate\n",
    "            for col_generate in range(3): # Update the max range to 4 for final\n",
    "                y = col_generate\n",
    "                print(x, y)\n",
    "                searched.append()\n",
    "\n",
    "                strings_ = \"\"\n",
    "                for tuple in range(9):\n",
    "                    row, col = directions[tuple]\n",
    "                    row_coord = x + row\n",
    "                    col_coord = y + col\n",
    "                    if row_coord >= 0 and col_coord >= 0 and row_coord <=2 and col_coord <= 2:\n",
    "                        strings_ = strings_ + table[row_coord][col_coord]\n",
    "                results.append(strings_)\n",
    "\n",
    "        print(results)\n",
    "\n",
    "recurse(table,  )"
   ]
  },
  {
   "cell_type": "code",
   "execution_count": 3,
   "metadata": {
    "collapsed": false
   },
   "outputs": [
    {
     "data": {
      "text/plain": [
       "{'A', 'B', 'C', 'D', 'E', 'F'}"
      ]
     },
     "execution_count": 3,
     "metadata": {},
     "output_type": "execute_result"
    }
   ],
   "source": [
    "graph = {'A': set(['B', 'C']),\n",
    "         'B': set(['A', 'D', 'E']),\n",
    "         'C': set(['A', 'F']),\n",
    "         'D': set(['B']),\n",
    "         'E': set(['B', 'F']),\n",
    "         'F': set(['C', 'E'])}\n",
    "\n",
    "def dfs(graph, start):\n",
    "    visited, stack = set(), [start]\n",
    "    while stack:\n",
    "        vertex = stack.pop()\n",
    "        if vertex not in visited:\n",
    "            visited.add(vertex)\n",
    "            stack.extend(graph[vertex] - visited)\n",
    "    return visited\n",
    "\n",
    "dfs(graph, 'B')"
   ]
  },
  {
   "cell_type": "code",
   "execution_count": 26,
   "metadata": {
    "collapsed": false,
    "scrolled": true
   },
   "outputs": [
    {
     "name": "stdout",
     "output_type": "stream",
     "text": [
      "alp 1\n",
      "alpha 2\n",
      "gal 1\n",
      "gamma 2\n",
      "hap 1\n",
      "lag 1\n",
      "lam 1\n",
      "mag 1\n",
      "max 1\n"
     ]
    },
    {
     "data": {
      "text/plain": [
       "11"
      ]
     },
     "execution_count": 26,
     "metadata": {},
     "output_type": "execute_result"
    }
   ],
   "source": [
    "results = [\"alp\", \"alpha\", \"gal\", \"gamma\", \"hap\", \"lag\", \"lam\", \"mag\", \n",
    "           \"max\"]\n",
    "\n",
    "def score(words):\n",
    "    score_dct = {3 : 1, 4: 1, 5 : 2, 6 : 3, 7 : 5,}\n",
    "    final_score = []\n",
    "    for word in results:\n",
    "        if len(word) >= 8:\n",
    "            final_score.append(11)\n",
    "        else:\n",
    "            final_score.append(score_dct[len(word)])\n",
    "    for i in range(len(final_score)):\n",
    "        print (results[i], final_score[i])\n",
    "            \n",
    "    final_score = sum(final_score)\n",
    "    \n",
    "    return(final_score)\n",
    "                          \n",
    "score(results)\n"
   ]
  },
  {
   "cell_type": "code",
   "execution_count": null,
   "metadata": {
    "collapsed": true
   },
   "outputs": [],
   "source": [
    "def find_words(board, row, col, prefix):\n",
    "    \"\"\"Find all words starting with prefix that\n",
    "    can be completed from row,col of board.\n",
    "    Args:\n",
    "        row:  row of position to continue from (need not be on board)\n",
    "        col:  col of position to continue from (need not be on board)\n",
    "        prefix: looking for words that start with this prefix\n",
    "    Returns: nothing\n",
    "        (side effect is filling results list)\n",
    "    Effects:\n",
    "        inserts found words (not necessarily unique) into results\n",
    "    \"\"\"\n",
    "\n",
    "    board.mark_taken(row, col)\n",
    "    for x in range(row-1, row+2):\n",
    "        for y in range(col-1, col+2):\n",
    "            if board.available(x, y):\n",
    "                prefix += board.get_char(x, y)\n",
    "                if game_dict.search(prefix) == 1: # The value of WORD\n",
    "                    board.results.append(prefix)\n",
    "                    find_words(board, x, y, prefix)\n",
    "                elif game_dict.search(prefix) == 2: # The value of PREFIX\n",
    "                    find_words(board, x, y, prefix)\n",
    "                if board.get_char(x, y) == 'qu':\n",
    "                    prefix = prefix[:-2]\n",
    "                else:\n",
    "                    prefix = prefix[:-1]\n",
    "    board.unmark_taken(row, col)\n",
    "    return"
   ]
  },
  {
   "cell_type": "code",
   "execution_count": 77,
   "metadata": {
    "collapsed": true
   },
   "outputs": [],
   "source": [
    "NO_MATCH = 0\n",
    "WORD = 1\n",
    "PREFIX = 2\n",
    "\n",
    "word_list = ['alpha', 'beta', 'gamma', 'delta', 'omega']\n",
    "\n",
    "\n",
    "def search( word_lst, prefix ):\n",
    "    \"\"\"Search for a prefix string in the dictionary.\n",
    "    Args:\n",
    "        str:  A string to look for in the dictionary\n",
    "    Returns:\n",
    "        code WORD if str exactly matches a word in the dictionary,\n",
    "            PREFIX if str does not match a word exactly but is a prefix\n",
    "                of a word in the dictionary, or\n",
    "        NO_MATCH if str is not a prefix of any word in the dictionary\n",
    "    \"\"\"\n",
    "   \n",
    "    lower_bound = 0\n",
    "    upper_bound = len(word_list)\n",
    "    \n",
    "    # prefix_matches = []\n",
    "    while True:\n",
    "        if lower_bound == upper_bound:\n",
    "            return NO_MATCH\n",
    "\n",
    "        half_index = (lower_bound + upper_bound) // 2\n",
    "\n",
    "        mid_item = word_list[half_index]\n",
    "        print(mid_item)\n",
    "              \n",
    "        if mid_item == prefix:\n",
    "            return WORD      \n",
    "        \n",
    "        if mid_item.startswith(prefix) == True:\n",
    "            return PREFIX\n",
    "\n",
    "        if mid_item < prefix:\n",
    "            lower_bound = half_index + 1\n",
    "\n",
    "        else:\n",
    "            upper_bound = half_index\n",
    "    \n",
    "    #if len(prefix_matches) > 0:\n",
    "    #    return PREFIX"
   ]
  },
  {
   "cell_type": "code",
   "execution_count": 79,
   "metadata": {
    "collapsed": false
   },
   "outputs": [
    {
     "name": "stdout",
     "output_type": "stream",
     "text": [
      "gamma\n",
      "beta\n",
      "alpha\n"
     ]
    },
    {
     "data": {
      "text/plain": [
       "2"
      ]
     },
     "execution_count": 79,
     "metadata": {},
     "output_type": "execute_result"
    }
   ],
   "source": [
    "search(word_list, \"al\")"
   ]
  },
  {
   "cell_type": "code",
   "execution_count": 1,
   "metadata": {
    "collapsed": false
   },
   "outputs": [],
   "source": [
    "words = [\"alpha\", \"bravo\"]\n",
    "WORD = 1\n",
    "NO_MATCH = 0\n",
    "PREFIX = 2\n",
    "\n",
    "def search( prefix ):\n",
    "    \"\"\"Search for a prefix string in the dictionary using an iterative binary search method.\n",
    "    Code adapted from Allen Downey's 'How to Think Like a Computer Scientist'\n",
    "    Args:\n",
    "        str:  A string to look for in the dictionary\n",
    "    Returns:\n",
    "        code WORD if str exactly matches a word in the dictionary,\n",
    "            PREFIX if str does not match a word exactly but is a prefix\n",
    "                of a word in the dictionary, or\n",
    "        NO_MATCH if str is not a prefix of any word in the dictionary\n",
    "    \"\"\"\n",
    "    \n",
    "    global words\n",
    "    lower_bound = 0\n",
    "    upper_bound = len(words)\n",
    "    matches = []  # collects prefixes in order for binary search to finish its search \n",
    "                  # of complete words.\n",
    "    while True: \n",
    "        if lower_bound == upper_bound: # If search region becomes empty.\n",
    "            break\n",
    "        half_index = (lower_bound + upper_bound) // 2 # Next probe should be in the \n",
    "                                                      # middle of prior search area.\n",
    "        print(half_index)\n",
    "        mid_item = words[half_index] # Fetch the word at the halfway position.          \n",
    "        print(mid_item)\n",
    "        if mid_item == prefix: \n",
    "            return WORD\n",
    "        if mid_item.startswith(prefix):             \n",
    "            matches.append(prefix)\n",
    "        if mid_item < prefix: #Use upper half of search area for next round.\n",
    "            lower_bound = half_index + 1\n",
    "        else:\n",
    "            upper_bound = half_index #Use lower half of search area next time.  \n",
    "    if len(matches) > 0:\n",
    "        return PREFIX\n",
    "    else: \n",
    "        return NO_MATCH\n"
   ]
  },
  {
   "cell_type": "code",
   "execution_count": 3,
   "metadata": {
    "collapsed": false
   },
   "outputs": [
    {
     "name": "stdout",
     "output_type": "stream",
     "text": [
      "1\n",
      "bravo\n"
     ]
    },
    {
     "data": {
      "text/plain": [
       "1"
      ]
     },
     "execution_count": 3,
     "metadata": {},
     "output_type": "execute_result"
    }
   ],
   "source": [
    "search(\"bravo\")"
   ]
  }
 ],
 "metadata": {
  "kernelspec": {
   "display_name": "Python 3",
   "language": "python",
   "name": "python3"
  },
  "language_info": {
   "codemirror_mode": {
    "name": "ipython",
    "version": 3
   },
   "file_extension": ".py",
   "mimetype": "text/x-python",
   "name": "python",
   "nbconvert_exporter": "python",
   "pygments_lexer": "ipython3",
   "version": "3.4.3"
  }
 },
 "nbformat": 4,
 "nbformat_minor": 0
}
